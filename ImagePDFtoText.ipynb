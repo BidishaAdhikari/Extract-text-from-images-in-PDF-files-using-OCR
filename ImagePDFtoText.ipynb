{
 "cells": [
  {
   "cell_type": "markdown",
   "id": "2d54554b",
   "metadata": {},
   "source": [
    "# Extract text from images in PDF files"
   ]
  },
  {
   "cell_type": "markdown",
   "id": "4a72628a",
   "metadata": {},
   "source": [
    "## First we need to convert the image pdf to image(jpg/jpeg/png)"
   ]
  },
  {
   "cell_type": "code",
   "execution_count": 9,
   "id": "28c9b8f9",
   "metadata": {},
   "outputs": [],
   "source": [
    "import fitz\n",
    "\n",
    "pdf_file = r\"G:\\Spaatech\\Bank_pg1.pdf\"\n",
    "doc = fitz.open(pdf_file)\n",
    "page = doc.loadPage(0)  # number of page\n",
    "pix = page.get_pixmap()\n",
    "output = \"outfile.png\"\n",
    "pix.save(output) #saving the png file"
   ]
  },
  {
   "cell_type": "markdown",
   "id": "4407e5f3",
   "metadata": {},
   "source": [
    "## Then we need to convert the image into text"
   ]
  },
  {
   "cell_type": "code",
   "execution_count": 10,
   "id": "5406573c",
   "metadata": {},
   "outputs": [
    {
     "name": "stdout",
     "output_type": "stream",
     "text": [
      "Model Practice Set\n",
      "\n",
      "© 0) endeavours a ae\n",
      "\n",
      "(2) refreshment ge a0\n",
      "(G) endemic (4) endearment | )F\n",
      "(6) encouragement 17, Which of the following should\n",
      "bbe the SECOND sentence a\n",
      "manufacture {er the rearrangement ?\n",
      "anus ma rT\n",
      "(6) bulng mE wo\n",
      "Directions (6-10): Rearrange | (5)\n",
      "following sx sentences/groupot | 8 Which ofthe flowing should\n",
      "(OL). and | be the THIRD sentence afer\n",
      "in the proper sequence toforma | the rearrangement?\n",
      "‘meaningfl paragraph. then ancwer | (1) ae\n",
      "‘pven questions we a\n",
      "acittates the evapo: | (S)E\n",
      "‘Process and you supply | 9, Which of the following should\n",
      "\n",
      "(4) nicely (9) dusk\n",
      "\n",
      "(#1 Distillation ts an important | © MUrure industrial development\n",
      "\n",
      "ou eee ects commercial process that ts used New institutions, such as le\n",
      "ees ey ‘in the purification of a large | #2! frameworks permitting limited\n",
      "2) smooth fuego ete ‘Setty pone ob ema\n",
      "3.10 ret 2) smponance | 0. Which ofthe fatowing shouts | and a tanking eaten fo channel\n",
      "{3 Suppor Pe Fas Ta | nance mo may. crested arc\n",
      "{9 rere 1) rection therearrangement {ealy ferent economic enon:\n",
      "\n",
      "\n"
     ]
    }
   ],
   "source": [
    "from PIL import Image\n",
    "from pytesseract import pytesseract   ## OCR(optical character recognition) to extract image\n",
    "\n",
    "# Defining paths to tesseract.exe\n",
    "# and the image we would be using\n",
    "path_to_tesseract = \"C:\\\\Program Files\\\\Tesseract-OCR\\\\tesseract.exe\"\n",
    "image_path = 'outfile.png'\n",
    "  \n",
    "# Opening the image & storing it in an image object\n",
    "img = Image.open(image_path)\n",
    "  \n",
    "# Providing the tesseract executable\n",
    "# location to pytesseract library\n",
    "pytesseract.tesseract_cmd = path_to_tesseract\n",
    "  \n",
    "# Passing the image object to image_to_string() function\n",
    "# This function will extract the text from the image\n",
    "text = pytesseract.image_to_string(img)\n",
    "  \n",
    "# Displaying the extracted text\n",
    "print(text)"
   ]
  },
  {
   "cell_type": "code",
   "execution_count": null,
   "id": "01feaecc",
   "metadata": {},
   "outputs": [],
   "source": []
  }
 ],
 "metadata": {
  "kernelspec": {
   "display_name": "Python 3",
   "language": "python",
   "name": "python3"
  },
  "language_info": {
   "codemirror_mode": {
    "name": "ipython",
    "version": 3
   },
   "file_extension": ".py",
   "mimetype": "text/x-python",
   "name": "python",
   "nbconvert_exporter": "python",
   "pygments_lexer": "ipython3",
   "version": "3.8.8"
  }
 },
 "nbformat": 4,
 "nbformat_minor": 5
}
